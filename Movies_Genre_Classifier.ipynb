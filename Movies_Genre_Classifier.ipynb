{
  "cells": [
    {
      "cell_type": "markdown",
      "metadata": {
        "id": "b3pdgMqYmN1K"
      },
      "source": [
        "# **Movie Genres Classification**\n",
        "*Predicting the genre of movie from just 1000 characters of the script.*\n",
        "\n",
        "*Dataset Link: https://www.kaggle.com/c/moviegenres/overview*"
      ]
    },
    {
      "cell_type": "code",
      "execution_count": null,
      "metadata": {
        "colab": {
          "base_uri": "https://localhost:8080/"
        },
        "id": "G4YV4kKYZ43J",
        "outputId": "0a1b0654-df33-4448-a8d6-09fad2ef1383"
      },
      "outputs": [
        {
          "name": "stdout",
          "output_type": "stream",
          "text": [
            "Drive already mounted at /content/drive/; to attempt to forcibly remount, call drive.mount(\"/content/drive/\", force_remount=True).\n"
          ]
        }
      ],
      "source": [
        "# Connecting Google Drive with Google Colab\n",
        "from google.colab import drive\n",
        "drive.mount('/content/drive/')"
      ]
    },
    {
      "cell_type": "code",
      "execution_count": null,
      "metadata": {
        "id": "qSUPe1BSah-F"
      },
      "outputs": [],
      "source": [
        "# Importing essential libraries\n",
        "import numpy as np\n",
        "import pandas as pd"
      ]
    },
    {
      "cell_type": "code",
      "execution_count": null,
      "metadata": {
        "id": "9BYEyV5Oa4AV"
      },
      "outputs": [],
      "source": [
        "# Loading the dataset\n",
        "df = pd.read_csv('/content/drive/My Drive/nlp/kaggle_movie_train.csv')"
      ]
    },
    {
      "cell_type": "markdown",
      "metadata": {
        "id": "NOEsSQEXbvB2"
      },
      "source": [
        "# **Exploring the dataset**"
      ]
    },
    {
      "cell_type": "code",
      "execution_count": null,
      "metadata": {
        "colab": {
          "base_uri": "https://localhost:8080/"
        },
        "id": "xfASlolNbtKu",
        "outputId": "042c00bc-c2fc-4e69-9619-b91a125cd795"
      },
      "outputs": [
        {
          "data": {
            "text/plain": [
              "Index(['id', 'text', 'genre'], dtype='object')"
            ]
          },
          "execution_count": 4,
          "metadata": {},
          "output_type": "execute_result"
        }
      ],
      "source": [
        "df.columns"
      ]
    },
    {
      "cell_type": "code",
      "execution_count": null,
      "metadata": {
        "colab": {
          "base_uri": "https://localhost:8080/"
        },
        "id": "0iWI7KwbbzSW",
        "outputId": "779965f2-2cca-43bb-d0fa-f9d27aa9e076"
      },
      "outputs": [
        {
          "data": {
            "text/plain": [
              "(22579, 3)"
            ]
          },
          "execution_count": 5,
          "metadata": {},
          "output_type": "execute_result"
        }
      ],
      "source": [
        "df.shape"
      ]
    },
    {
      "cell_type": "code",
      "execution_count": null,
      "metadata": {
        "colab": {
          "base_uri": "https://localhost:8080/",
          "height": 363
        },
        "id": "VN0vI7Fkb1e2",
        "outputId": "9f69e120-5384-4b50-ea11-f6bbdb371165"
      },
      "outputs": [
        {
          "data": {
            "application/vnd.google.colaboratory.intrinsic+json": {
              "summary": "{\n  \"name\": \"df\",\n  \"rows\": 22579,\n  \"fields\": [\n    {\n      \"column\": \"id\",\n      \"properties\": {\n        \"dtype\": \"number\",\n        \"std\": 8132,\n        \"min\": 0,\n        \"max\": 28166,\n        \"num_unique_values\": 22579,\n        \"samples\": [\n          20147,\n          5186,\n          21967\n        ],\n        \"semantic_type\": \"\",\n        \"description\": \"\"\n      }\n    },\n    {\n      \"column\": \"text\",\n      \"properties\": {\n        \"dtype\": \"string\",\n        \"num_unique_values\": 22579,\n        \"samples\": [\n          \"nt to order. MAN 1 What are you gonna have? MANOLO A steak. MAN 1 Well, if you like steak, we know a much better place. We'll take you there. MANOLO That's okay, really. They each take Manolo by an arm. MAN 2 Manolo, we should really be going now, before it gets too crowded. INT. SUV DAY We're looking through the windshield as we approach the Mexican border. As the car slows, we pan to follow the border official as he looks in briefly and waves us through. We continue to pan to reveal Manolo in the backseat sitting beside Man 2. INT. SUV DAY We're in the desert. There's nothing in any directions. Javi is implacable. Manolo understands what is happening. MANOLO I was going to feed them wrong information. Feed them lies to... it was for... The men say nothing. After a beat MANOLO Don't tell Anna I died like this. Tell her it was something else. Tell her it was official business. Tell her that I died doing something honorable. Please, tell her that for me... EXT. DESERT DAY Javi and Manol\",\n          \"ON standing in the doorway. She's a young woman now, possessing beauty and great inner strength. her hair still bears the white streak. She speaks as if coming out of a trance NANCY Who taught you that rhyme? KRISTEN Her eyes are locked with Nancy's. NANCY The staff members part before her as she walks to Kristen. She takes the scissors from Kristen's hand. Kristen falls into Nancy's arms, sobbing. NEIL stares at Nancy in amazement. CUT TO INT. HOSPITAL CAFETERIA DAY Neil and Nancy are finishing a late lunch in teh nearly deserted cafeteria. NANCY Tell me about the kids. NEIL You'll get to meet them all tomorrow. They're...survivors. In a way. All severely sleep disordered. Insomnia, narcolepsy, bedwetting... NANCY But nightmares are the common thread? NEIL Right. They seem to share a group delusion, a boogeyman for lack of a better word. They're so traumatized, they'll do anything not to sleep. NANCY Anything? NEIL playing with his coffee We lost a kid about a month ago to Fairview. I\",\n          \"like Saks', Mom, you don't have to pay the price on the tag. She gets in the elevator and RATTLES the door shut with a bang. That kid's got an attitude. Meg takes a deep breath, turns to Lydia. She brushes her hair behind an ear, we notice her thin hand is shaking. MEG I'm sorry. Apartments, and... money, and... this is more my husband's area. She digs in her purse for a prescription pill bottle and some water. MEG Was. His area. I'm not very good at... Lydia watches as she swallows a pill, waiting for Meg to finish her sentence. Not very good at what? MEG Things, and if I can't prove to my soon to be ex husband that I can provide a suitable place for our daughter to live in the next fourteen days, it's going to get ugly between us. Uglier. Lydia just looks at her, no idea what to say. These two are from different places. EVAN O.S. from upstairs It would be so lovely if I could shot the property before I leave! CUT TO INT. TOP FLOOR BEDROOM DAY Evan, Lydia, and Meg poke their heads in \"\n        ],\n        \"semantic_type\": \"\",\n        \"description\": \"\"\n      }\n    },\n    {\n      \"column\": \"genre\",\n      \"properties\": {\n        \"dtype\": \"category\",\n        \"num_unique_values\": 9,\n        \"samples\": [\n          \"horror\",\n          \"comedy\",\n          \"other\"\n        ],\n        \"semantic_type\": \"\",\n        \"description\": \"\"\n      }\n    }\n  ]\n}",
              "type": "dataframe",
              "variable_name": "df"
            },
            "text/html": [
              "\n",
              "  <div id=\"df-0f794e64-3476-4dfa-bb45-e9557759a557\" class=\"colab-df-container\">\n",
              "    <div>\n",
              "<style scoped>\n",
              "    .dataframe tbody tr th:only-of-type {\n",
              "        vertical-align: middle;\n",
              "    }\n",
              "\n",
              "    .dataframe tbody tr th {\n",
              "        vertical-align: top;\n",
              "    }\n",
              "\n",
              "    .dataframe thead th {\n",
              "        text-align: right;\n",
              "    }\n",
              "</style>\n",
              "<table border=\"1\" class=\"dataframe\">\n",
              "  <thead>\n",
              "    <tr style=\"text-align: right;\">\n",
              "      <th></th>\n",
              "      <th>id</th>\n",
              "      <th>text</th>\n",
              "      <th>genre</th>\n",
              "    </tr>\n",
              "  </thead>\n",
              "  <tbody>\n",
              "    <tr>\n",
              "      <th>0</th>\n",
              "      <td>0</td>\n",
              "      <td>eady dead, maybe even wishing he was. INT. 2ND...</td>\n",
              "      <td>thriller</td>\n",
              "    </tr>\n",
              "    <tr>\n",
              "      <th>1</th>\n",
              "      <td>2</td>\n",
              "      <td>t, summa cum laude and all. And I'm about to l...</td>\n",
              "      <td>comedy</td>\n",
              "    </tr>\n",
              "    <tr>\n",
              "      <th>2</th>\n",
              "      <td>3</td>\n",
              "      <td>up Come, I have a surprise.... She takes him ...</td>\n",
              "      <td>drama</td>\n",
              "    </tr>\n",
              "    <tr>\n",
              "      <th>3</th>\n",
              "      <td>4</td>\n",
              "      <td>ded by the two detectives. INT. JEFF'S APARTME...</td>\n",
              "      <td>thriller</td>\n",
              "    </tr>\n",
              "    <tr>\n",
              "      <th>4</th>\n",
              "      <td>5</td>\n",
              "      <td>nd dismounts, just as the other children reach...</td>\n",
              "      <td>drama</td>\n",
              "    </tr>\n",
              "    <tr>\n",
              "      <th>5</th>\n",
              "      <td>6</td>\n",
              "      <td>breadth of the bluff. Gabe pulls out his ancie...</td>\n",
              "      <td>thriller</td>\n",
              "    </tr>\n",
              "    <tr>\n",
              "      <th>6</th>\n",
              "      <td>7</td>\n",
              "      <td>uilding. A MAN in pajamas runs out into the ra...</td>\n",
              "      <td>thriller</td>\n",
              "    </tr>\n",
              "    <tr>\n",
              "      <th>7</th>\n",
              "      <td>9</td>\n",
              "      <td>ELLES AND RITA HAYWORTH Just disgustingly rich...</td>\n",
              "      <td>drama</td>\n",
              "    </tr>\n",
              "    <tr>\n",
              "      <th>8</th>\n",
              "      <td>10</td>\n",
              "      <td>Memphis goes back into the garage, Budgy cack...</td>\n",
              "      <td>thriller</td>\n",
              "    </tr>\n",
              "    <tr>\n",
              "      <th>9</th>\n",
              "      <td>11</td>\n",
              "      <td>e reels as the world spins. Sweat pours off hi...</td>\n",
              "      <td>action</td>\n",
              "    </tr>\n",
              "  </tbody>\n",
              "</table>\n",
              "</div>\n",
              "    <div class=\"colab-df-buttons\">\n",
              "\n",
              "  <div class=\"colab-df-container\">\n",
              "    <button class=\"colab-df-convert\" onclick=\"convertToInteractive('df-0f794e64-3476-4dfa-bb45-e9557759a557')\"\n",
              "            title=\"Convert this dataframe to an interactive table.\"\n",
              "            style=\"display:none;\">\n",
              "\n",
              "  <svg xmlns=\"http://www.w3.org/2000/svg\" height=\"24px\" viewBox=\"0 -960 960 960\">\n",
              "    <path d=\"M120-120v-720h720v720H120Zm60-500h600v-160H180v160Zm220 220h160v-160H400v160Zm0 220h160v-160H400v160ZM180-400h160v-160H180v160Zm440 0h160v-160H620v160ZM180-180h160v-160H180v160Zm440 0h160v-160H620v160Z\"/>\n",
              "  </svg>\n",
              "    </button>\n",
              "\n",
              "  <style>\n",
              "    .colab-df-container {\n",
              "      display:flex;\n",
              "      gap: 12px;\n",
              "    }\n",
              "\n",
              "    .colab-df-convert {\n",
              "      background-color: #E8F0FE;\n",
              "      border: none;\n",
              "      border-radius: 50%;\n",
              "      cursor: pointer;\n",
              "      display: none;\n",
              "      fill: #1967D2;\n",
              "      height: 32px;\n",
              "      padding: 0 0 0 0;\n",
              "      width: 32px;\n",
              "    }\n",
              "\n",
              "    .colab-df-convert:hover {\n",
              "      background-color: #E2EBFA;\n",
              "      box-shadow: 0px 1px 2px rgba(60, 64, 67, 0.3), 0px 1px 3px 1px rgba(60, 64, 67, 0.15);\n",
              "      fill: #174EA6;\n",
              "    }\n",
              "\n",
              "    .colab-df-buttons div {\n",
              "      margin-bottom: 4px;\n",
              "    }\n",
              "\n",
              "    [theme=dark] .colab-df-convert {\n",
              "      background-color: #3B4455;\n",
              "      fill: #D2E3FC;\n",
              "    }\n",
              "\n",
              "    [theme=dark] .colab-df-convert:hover {\n",
              "      background-color: #434B5C;\n",
              "      box-shadow: 0px 1px 3px 1px rgba(0, 0, 0, 0.15);\n",
              "      filter: drop-shadow(0px 1px 2px rgba(0, 0, 0, 0.3));\n",
              "      fill: #FFFFFF;\n",
              "    }\n",
              "  </style>\n",
              "\n",
              "    <script>\n",
              "      const buttonEl =\n",
              "        document.querySelector('#df-0f794e64-3476-4dfa-bb45-e9557759a557 button.colab-df-convert');\n",
              "      buttonEl.style.display =\n",
              "        google.colab.kernel.accessAllowed ? 'block' : 'none';\n",
              "\n",
              "      async function convertToInteractive(key) {\n",
              "        const element = document.querySelector('#df-0f794e64-3476-4dfa-bb45-e9557759a557');\n",
              "        const dataTable =\n",
              "          await google.colab.kernel.invokeFunction('convertToInteractive',\n",
              "                                                    [key], {});\n",
              "        if (!dataTable) return;\n",
              "\n",
              "        const docLinkHtml = 'Like what you see? Visit the ' +\n",
              "          '<a target=\"_blank\" href=https://colab.research.google.com/notebooks/data_table.ipynb>data table notebook</a>'\n",
              "          + ' to learn more about interactive tables.';\n",
              "        element.innerHTML = '';\n",
              "        dataTable['output_type'] = 'display_data';\n",
              "        await google.colab.output.renderOutput(dataTable, element);\n",
              "        const docLink = document.createElement('div');\n",
              "        docLink.innerHTML = docLinkHtml;\n",
              "        element.appendChild(docLink);\n",
              "      }\n",
              "    </script>\n",
              "  </div>\n",
              "\n",
              "\n",
              "<div id=\"df-8aa29099-06c9-42c0-aa1f-18b539b9dc39\">\n",
              "  <button class=\"colab-df-quickchart\" onclick=\"quickchart('df-8aa29099-06c9-42c0-aa1f-18b539b9dc39')\"\n",
              "            title=\"Suggest charts\"\n",
              "            style=\"display:none;\">\n",
              "\n",
              "<svg xmlns=\"http://www.w3.org/2000/svg\" height=\"24px\"viewBox=\"0 0 24 24\"\n",
              "     width=\"24px\">\n",
              "    <g>\n",
              "        <path d=\"M19 3H5c-1.1 0-2 .9-2 2v14c0 1.1.9 2 2 2h14c1.1 0 2-.9 2-2V5c0-1.1-.9-2-2-2zM9 17H7v-7h2v7zm4 0h-2V7h2v10zm4 0h-2v-4h2v4z\"/>\n",
              "    </g>\n",
              "</svg>\n",
              "  </button>\n",
              "\n",
              "<style>\n",
              "  .colab-df-quickchart {\n",
              "      --bg-color: #E8F0FE;\n",
              "      --fill-color: #1967D2;\n",
              "      --hover-bg-color: #E2EBFA;\n",
              "      --hover-fill-color: #174EA6;\n",
              "      --disabled-fill-color: #AAA;\n",
              "      --disabled-bg-color: #DDD;\n",
              "  }\n",
              "\n",
              "  [theme=dark] .colab-df-quickchart {\n",
              "      --bg-color: #3B4455;\n",
              "      --fill-color: #D2E3FC;\n",
              "      --hover-bg-color: #434B5C;\n",
              "      --hover-fill-color: #FFFFFF;\n",
              "      --disabled-bg-color: #3B4455;\n",
              "      --disabled-fill-color: #666;\n",
              "  }\n",
              "\n",
              "  .colab-df-quickchart {\n",
              "    background-color: var(--bg-color);\n",
              "    border: none;\n",
              "    border-radius: 50%;\n",
              "    cursor: pointer;\n",
              "    display: none;\n",
              "    fill: var(--fill-color);\n",
              "    height: 32px;\n",
              "    padding: 0;\n",
              "    width: 32px;\n",
              "  }\n",
              "\n",
              "  .colab-df-quickchart:hover {\n",
              "    background-color: var(--hover-bg-color);\n",
              "    box-shadow: 0 1px 2px rgba(60, 64, 67, 0.3), 0 1px 3px 1px rgba(60, 64, 67, 0.15);\n",
              "    fill: var(--button-hover-fill-color);\n",
              "  }\n",
              "\n",
              "  .colab-df-quickchart-complete:disabled,\n",
              "  .colab-df-quickchart-complete:disabled:hover {\n",
              "    background-color: var(--disabled-bg-color);\n",
              "    fill: var(--disabled-fill-color);\n",
              "    box-shadow: none;\n",
              "  }\n",
              "\n",
              "  .colab-df-spinner {\n",
              "    border: 2px solid var(--fill-color);\n",
              "    border-color: transparent;\n",
              "    border-bottom-color: var(--fill-color);\n",
              "    animation:\n",
              "      spin 1s steps(1) infinite;\n",
              "  }\n",
              "\n",
              "  @keyframes spin {\n",
              "    0% {\n",
              "      border-color: transparent;\n",
              "      border-bottom-color: var(--fill-color);\n",
              "      border-left-color: var(--fill-color);\n",
              "    }\n",
              "    20% {\n",
              "      border-color: transparent;\n",
              "      border-left-color: var(--fill-color);\n",
              "      border-top-color: var(--fill-color);\n",
              "    }\n",
              "    30% {\n",
              "      border-color: transparent;\n",
              "      border-left-color: var(--fill-color);\n",
              "      border-top-color: var(--fill-color);\n",
              "      border-right-color: var(--fill-color);\n",
              "    }\n",
              "    40% {\n",
              "      border-color: transparent;\n",
              "      border-right-color: var(--fill-color);\n",
              "      border-top-color: var(--fill-color);\n",
              "    }\n",
              "    60% {\n",
              "      border-color: transparent;\n",
              "      border-right-color: var(--fill-color);\n",
              "    }\n",
              "    80% {\n",
              "      border-color: transparent;\n",
              "      border-right-color: var(--fill-color);\n",
              "      border-bottom-color: var(--fill-color);\n",
              "    }\n",
              "    90% {\n",
              "      border-color: transparent;\n",
              "      border-bottom-color: var(--fill-color);\n",
              "    }\n",
              "  }\n",
              "</style>\n",
              "\n",
              "  <script>\n",
              "    async function quickchart(key) {\n",
              "      const quickchartButtonEl =\n",
              "        document.querySelector('#' + key + ' button');\n",
              "      quickchartButtonEl.disabled = true;  // To prevent multiple clicks.\n",
              "      quickchartButtonEl.classList.add('colab-df-spinner');\n",
              "      try {\n",
              "        const charts = await google.colab.kernel.invokeFunction(\n",
              "            'suggestCharts', [key], {});\n",
              "      } catch (error) {\n",
              "        console.error('Error during call to suggestCharts:', error);\n",
              "      }\n",
              "      quickchartButtonEl.classList.remove('colab-df-spinner');\n",
              "      quickchartButtonEl.classList.add('colab-df-quickchart-complete');\n",
              "    }\n",
              "    (() => {\n",
              "      let quickchartButtonEl =\n",
              "        document.querySelector('#df-8aa29099-06c9-42c0-aa1f-18b539b9dc39 button');\n",
              "      quickchartButtonEl.style.display =\n",
              "        google.colab.kernel.accessAllowed ? 'block' : 'none';\n",
              "    })();\n",
              "  </script>\n",
              "</div>\n",
              "    </div>\n",
              "  </div>\n"
            ],
            "text/plain": [
              "   id                                               text     genre\n",
              "0   0  eady dead, maybe even wishing he was. INT. 2ND...  thriller\n",
              "1   2  t, summa cum laude and all. And I'm about to l...    comedy\n",
              "2   3   up Come, I have a surprise.... She takes him ...     drama\n",
              "3   4  ded by the two detectives. INT. JEFF'S APARTME...  thriller\n",
              "4   5  nd dismounts, just as the other children reach...     drama\n",
              "5   6  breadth of the bluff. Gabe pulls out his ancie...  thriller\n",
              "6   7  uilding. A MAN in pajamas runs out into the ra...  thriller\n",
              "7   9  ELLES AND RITA HAYWORTH Just disgustingly rich...     drama\n",
              "8  10   Memphis goes back into the garage, Budgy cack...  thriller\n",
              "9  11  e reels as the world spins. Sweat pours off hi...    action"
            ]
          },
          "execution_count": 6,
          "metadata": {},
          "output_type": "execute_result"
        }
      ],
      "source": [
        "df.head(10)"
      ]
    },
    {
      "cell_type": "code",
      "execution_count": null,
      "metadata": {
        "id": "FsuDtQBGb3xe"
      },
      "outputs": [],
      "source": [
        "# Importing essential libraries for visualization\n",
        "import matplotlib.pyplot as plt\n",
        "import seaborn as sns\n",
        "%matplotlib inline"
      ]
    },
    {
      "cell_type": "code",
      "execution_count": null,
      "metadata": {
        "colab": {
          "base_uri": "https://localhost:8080/",
          "height": 1000
        },
        "id": "fpRaHLMKcE9V",
        "outputId": "7890dc63-5ae0-4362-9d7a-29534ead5e31"
      },
      "outputs": [
        {
          "data": {
            "image/png": "[encoded data removed]",
            "text/plain": [
              "<Figure size 1200x1200 with 1 Axes>"
            ]
          },
          "metadata": {},
          "output_type": "display_data"
        }
      ],
      "source": [
        "# Visualizing the count of 'genre' column from the dataset\n",
        "plt.figure(figsize=(12,12))\n",
        "sns.countplot(x='genre', data=df)\n",
        "plt.xlabel('Movie Genres')\n",
        "plt.ylabel('Count')\n",
        "plt.title('Genre Plot')\n",
        "plt.show()"
      ]
    },
    {
      "cell_type": "markdown",
      "metadata": {
        "id": "CNNlssWrfJEG"
      },
      "source": [
        "# **Data Cleaning and Preprocessing**"
      ]
    },
    {
      "cell_type": "code",
      "execution_count": null,
      "metadata": {
        "colab": {
          "base_uri": "https://localhost:8080/"
        },
        "id": "ObjmaiaUdCHX",
        "outputId": "3aac5f7c-9348-4eb3-b903-4fc25e5f0918"
      },
      "outputs": [
        {
          "data": {
            "text/plain": [
              "['action',\n",
              " 'adventure',\n",
              " 'comedy',\n",
              " 'drama',\n",
              " 'horror',\n",
              " 'other',\n",
              " 'romance',\n",
              " 'sci-fi',\n",
              " 'thriller']"
            ]
          },
          "execution_count": 9,
          "metadata": {},
          "output_type": "execute_result"
        }
      ],
      "source": [
        "# Finding unique genres\n",
        "movie_genre = list(df['genre'].unique())\n",
        "movie_genre.sort()\n",
        "movie_genre"
      ]
    },
    {
      "cell_type": "code",
      "execution_count": null,
      "metadata": {
        "colab": {
          "base_uri": "https://localhost:8080/",
          "height": 363
        },
        "id": "tzGCnJ24dNnu",
        "outputId": "ebaedab7-141e-493c-f898-daf68820751c"
      },
      "outputs": [
        {
          "data": {
            "application/vnd.google.colaboratory.intrinsic+json": {
              "summary": "{\n  \"name\": \"df\",\n  \"rows\": 22579,\n  \"fields\": [\n    {\n      \"column\": \"id\",\n      \"properties\": {\n        \"dtype\": \"number\",\n        \"std\": 8132,\n        \"min\": 0,\n        \"max\": 28166,\n        \"num_unique_values\": 22579,\n        \"samples\": [\n          20147,\n          5186,\n          21967\n        ],\n        \"semantic_type\": \"\",\n        \"description\": \"\"\n      }\n    },\n    {\n      \"column\": \"text\",\n      \"properties\": {\n        \"dtype\": \"string\",\n        \"num_unique_values\": 22579,\n        \"samples\": [\n          \"nt to order. MAN 1 What are you gonna have? MANOLO A steak. MAN 1 Well, if you like steak, we know a much better place. We'll take you there. MANOLO That's okay, really. They each take Manolo by an arm. MAN 2 Manolo, we should really be going now, before it gets too crowded. INT. SUV DAY We're looking through the windshield as we approach the Mexican border. As the car slows, we pan to follow the border official as he looks in briefly and waves us through. We continue to pan to reveal Manolo in the backseat sitting beside Man 2. INT. SUV DAY We're in the desert. There's nothing in any directions. Javi is implacable. Manolo understands what is happening. MANOLO I was going to feed them wrong information. Feed them lies to... it was for... The men say nothing. After a beat MANOLO Don't tell Anna I died like this. Tell her it was something else. Tell her it was official business. Tell her that I died doing something honorable. Please, tell her that for me... EXT. DESERT DAY Javi and Manol\",\n          \"ON standing in the doorway. She's a young woman now, possessing beauty and great inner strength. her hair still bears the white streak. She speaks as if coming out of a trance NANCY Who taught you that rhyme? KRISTEN Her eyes are locked with Nancy's. NANCY The staff members part before her as she walks to Kristen. She takes the scissors from Kristen's hand. Kristen falls into Nancy's arms, sobbing. NEIL stares at Nancy in amazement. CUT TO INT. HOSPITAL CAFETERIA DAY Neil and Nancy are finishing a late lunch in teh nearly deserted cafeteria. NANCY Tell me about the kids. NEIL You'll get to meet them all tomorrow. They're...survivors. In a way. All severely sleep disordered. Insomnia, narcolepsy, bedwetting... NANCY But nightmares are the common thread? NEIL Right. They seem to share a group delusion, a boogeyman for lack of a better word. They're so traumatized, they'll do anything not to sleep. NANCY Anything? NEIL playing with his coffee We lost a kid about a month ago to Fairview. I\",\n          \"like Saks', Mom, you don't have to pay the price on the tag. She gets in the elevator and RATTLES the door shut with a bang. That kid's got an attitude. Meg takes a deep breath, turns to Lydia. She brushes her hair behind an ear, we notice her thin hand is shaking. MEG I'm sorry. Apartments, and... money, and... this is more my husband's area. She digs in her purse for a prescription pill bottle and some water. MEG Was. His area. I'm not very good at... Lydia watches as she swallows a pill, waiting for Meg to finish her sentence. Not very good at what? MEG Things, and if I can't prove to my soon to be ex husband that I can provide a suitable place for our daughter to live in the next fourteen days, it's going to get ugly between us. Uglier. Lydia just looks at her, no idea what to say. These two are from different places. EVAN O.S. from upstairs It would be so lovely if I could shot the property before I leave! CUT TO INT. TOP FLOOR BEDROOM DAY Evan, Lydia, and Meg poke their heads in \"\n        ],\n        \"semantic_type\": \"\",\n        \"description\": \"\"\n      }\n    },\n    {\n      \"column\": \"genre\",\n      \"properties\": {\n        \"dtype\": \"number\",\n        \"std\": 2,\n        \"min\": 0,\n        \"max\": 8,\n        \"num_unique_values\": 9,\n        \"samples\": [\n          5,\n          3,\n          0\n        ],\n        \"semantic_type\": \"\",\n        \"description\": \"\"\n      }\n    }\n  ]\n}",
              "type": "dataframe",
              "variable_name": "df"
            },
            "text/html": [
              "\n",
              "  <div id=\"df-c13563f0-3e7e-4d76-aa8b-9f8b1b226b02\" class=\"colab-df-container\">\n",
              "    <div>\n",
              "<style scoped>\n",
              "    .dataframe tbody tr th:only-of-type {\n",
              "        vertical-align: middle;\n",
              "    }\n",
              "\n",
              "    .dataframe tbody tr th {\n",
              "        vertical-align: top;\n",
              "    }\n",
              "\n",
              "    .dataframe thead th {\n",
              "        text-align: right;\n",
              "    }\n",
              "</style>\n",
              "<table border=\"1\" class=\"dataframe\">\n",
              "  <thead>\n",
              "    <tr style=\"text-align: right;\">\n",
              "      <th></th>\n",
              "      <th>id</th>\n",
              "      <th>text</th>\n",
              "      <th>genre</th>\n",
              "    </tr>\n",
              "  </thead>\n",
              "  <tbody>\n",
              "    <tr>\n",
              "      <th>0</th>\n",
              "      <td>0</td>\n",
              "      <td>eady dead, maybe even wishing he was. INT. 2ND...</td>\n",
              "      <td>8</td>\n",
              "    </tr>\n",
              "    <tr>\n",
              "      <th>1</th>\n",
              "      <td>2</td>\n",
              "      <td>t, summa cum laude and all. And I'm about to l...</td>\n",
              "      <td>3</td>\n",
              "    </tr>\n",
              "    <tr>\n",
              "      <th>2</th>\n",
              "      <td>3</td>\n",
              "      <td>up Come, I have a surprise.... She takes him ...</td>\n",
              "      <td>4</td>\n",
              "    </tr>\n",
              "    <tr>\n",
              "      <th>3</th>\n",
              "      <td>4</td>\n",
              "      <td>ded by the two detectives. INT. JEFF'S APARTME...</td>\n",
              "      <td>8</td>\n",
              "    </tr>\n",
              "    <tr>\n",
              "      <th>4</th>\n",
              "      <td>5</td>\n",
              "      <td>nd dismounts, just as the other children reach...</td>\n",
              "      <td>4</td>\n",
              "    </tr>\n",
              "    <tr>\n",
              "      <th>5</th>\n",
              "      <td>6</td>\n",
              "      <td>breadth of the bluff. Gabe pulls out his ancie...</td>\n",
              "      <td>8</td>\n",
              "    </tr>\n",
              "    <tr>\n",
              "      <th>6</th>\n",
              "      <td>7</td>\n",
              "      <td>uilding. A MAN in pajamas runs out into the ra...</td>\n",
              "      <td>8</td>\n",
              "    </tr>\n",
              "    <tr>\n",
              "      <th>7</th>\n",
              "      <td>9</td>\n",
              "      <td>ELLES AND RITA HAYWORTH Just disgustingly rich...</td>\n",
              "      <td>4</td>\n",
              "    </tr>\n",
              "    <tr>\n",
              "      <th>8</th>\n",
              "      <td>10</td>\n",
              "      <td>Memphis goes back into the garage, Budgy cack...</td>\n",
              "      <td>8</td>\n",
              "    </tr>\n",
              "    <tr>\n",
              "      <th>9</th>\n",
              "      <td>11</td>\n",
              "      <td>e reels as the world spins. Sweat pours off hi...</td>\n",
              "      <td>1</td>\n",
              "    </tr>\n",
              "  </tbody>\n",
              "</table>\n",
              "</div>\n",
              "    <div class=\"colab-df-buttons\">\n",
              "\n",
              "  <div class=\"colab-df-container\">\n",
              "    <button class=\"colab-df-convert\" onclick=\"convertToInteractive('df-c13563f0-3e7e-4d76-aa8b-9f8b1b226b02')\"\n",
              "            title=\"Convert this dataframe to an interactive table.\"\n",
              "            style=\"display:none;\">\n",
              "\n",
              "  <svg xmlns=\"http://www.w3.org/2000/svg\" height=\"24px\" viewBox=\"0 -960 960 960\">\n",
              "    <path d=\"M120-120v-720h720v720H120Zm60-500h600v-160H180v160Zm220 220h160v-160H400v160Zm0 220h160v-160H400v160ZM180-400h160v-160H180v160Zm440 0h160v-160H620v160ZM180-180h160v-160H180v160Zm440 0h160v-160H620v160Z\"/>\n",
              "  </svg>\n",
              "    </button>\n",
              "\n",
              "  <style>\n",
              "    .colab-df-container {\n",
              "      display:flex;\n",
              "      gap: 12px;\n",
              "    }\n",
              "\n",
              "    .colab-df-convert {\n",
              "      background-color: #E8F0FE;\n",
              "      border: none;\n",
              "      border-radius: 50%;\n",
              "      cursor: pointer;\n",
              "      display: none;\n",
              "      fill: #1967D2;\n",
              "      height: 32px;\n",
              "      padding: 0 0 0 0;\n",
              "      width: 32px;\n",
              "    }\n",
              "\n",
              "    .colab-df-convert:hover {\n",
              "      background-color: #E2EBFA;\n",
              "      box-shadow: 0px 1px 2px rgba(60, 64, 67, 0.3), 0px 1px 3px 1px rgba(60, 64, 67, 0.15);\n",
              "      fill: #174EA6;\n",
              "    }\n",
              "\n",
              "    .colab-df-buttons div {\n",
              "      margin-bottom: 4px;\n",
              "    }\n",
              "\n",
              "    [theme=dark] .colab-df-convert {\n",
              "      background-color: #3B4455;\n",
              "      fill: #D2E3FC;\n",
              "    }\n",
              "\n",
              "    [theme=dark] .colab-df-convert:hover {\n",
              "      background-color: #434B5C;\n",
              "      box-shadow: 0px 1px 3px 1px rgba(0, 0, 0, 0.15);\n",
              "      filter: drop-shadow(0px 1px 2px rgba(0, 0, 0, 0.3));\n",
              "      fill: #FFFFFF;\n",
              "    }\n",
              "  </style>\n",
              "\n",
              "    <script>\n",
              "      const buttonEl =\n",
              "        document.querySelector('#df-c13563f0-3e7e-4d76-aa8b-9f8b1b226b02 button.colab-df-convert');\n",
              "      buttonEl.style.display =\n",
              "        google.colab.kernel.accessAllowed ? 'block' : 'none';\n",
              "\n",
              "      async function convertToInteractive(key) {\n",
              "        const element = document.querySelector('#df-c13563f0-3e7e-4d76-aa8b-9f8b1b226b02');\n",
              "        const dataTable =\n",
              "          await google.colab.kernel.invokeFunction('convertToInteractive',\n",
              "                                                    [key], {});\n",
              "        if (!dataTable) return;\n",
              "\n",
              "        const docLinkHtml = 'Like what you see? Visit the ' +\n",
              "          '<a target=\"_blank\" href=https://colab.research.google.com/notebooks/data_table.ipynb>data table notebook</a>'\n",
              "          + ' to learn more about interactive tables.';\n",
              "        element.innerHTML = '';\n",
              "        dataTable['output_type'] = 'display_data';\n",
              "        await google.colab.output.renderOutput(dataTable, element);\n",
              "        const docLink = document.createElement('div');\n",
              "        docLink.innerHTML = docLinkHtml;\n",
              "        element.appendChild(docLink);\n",
              "      }\n",
              "    </script>\n",
              "  </div>\n",
              "\n",
              "\n",
              "<div id=\"df-8a4721b8-9431-4d75-b6f8-8fd3e9adfebd\">\n",
              "  <button class=\"colab-df-quickchart\" onclick=\"quickchart('df-8a4721b8-9431-4d75-b6f8-8fd3e9adfebd')\"\n",
              "            title=\"Suggest charts\"\n",
              "            style=\"display:none;\">\n",
              "\n",
              "<svg xmlns=\"http://www.w3.org/2000/svg\" height=\"24px\"viewBox=\"0 0 24 24\"\n",
              "     width=\"24px\">\n",
              "    <g>\n",
              "        <path d=\"M19 3H5c-1.1 0-2 .9-2 2v14c0 1.1.9 2 2 2h14c1.1 0 2-.9 2-2V5c0-1.1-.9-2-2-2zM9 17H7v-7h2v7zm4 0h-2V7h2v10zm4 0h-2v-4h2v4z\"/>\n",
              "    </g>\n",
              "</svg>\n",
              "  </button>\n",
              "\n",
              "<style>\n",
              "  .colab-df-quickchart {\n",
              "      --bg-color: #E8F0FE;\n",
              "      --fill-color: #1967D2;\n",
              "      --hover-bg-color: #E2EBFA;\n",
              "      --hover-fill-color: #174EA6;\n",
              "      --disabled-fill-color: #AAA;\n",
              "      --disabled-bg-color: #DDD;\n",
              "  }\n",
              "\n",
              "  [theme=dark] .colab-df-quickchart {\n",
              "      --bg-color: #3B4455;\n",
              "      --fill-color: #D2E3FC;\n",
              "      --hover-bg-color: #434B5C;\n",
              "      --hover-fill-color: #FFFFFF;\n",
              "      --disabled-bg-color: #3B4455;\n",
              "      --disabled-fill-color: #666;\n",
              "  }\n",
              "\n",
              "  .colab-df-quickchart {\n",
              "    background-color: var(--bg-color);\n",
              "    border: none;\n",
              "    border-radius: 50%;\n",
              "    cursor: pointer;\n",
              "    display: none;\n",
              "    fill: var(--fill-color);\n",
              "    height: 32px;\n",
              "    padding: 0;\n",
              "    width: 32px;\n",
              "  }\n",
              "\n",
              "  .colab-df-quickchart:hover {\n",
              "    background-color: var(--hover-bg-color);\n",
              "    box-shadow: 0 1px 2px rgba(60, 64, 67, 0.3), 0 1px 3px 1px rgba(60, 64, 67, 0.15);\n",
              "    fill: var(--button-hover-fill-color);\n",
              "  }\n",
              "\n",
              "  .colab-df-quickchart-complete:disabled,\n",
              "  .colab-df-quickchart-complete:disabled:hover {\n",
              "    background-color: var(--disabled-bg-color);\n",
              "    fill: var(--disabled-fill-color);\n",
              "    box-shadow: none;\n",
              "  }\n",
              "\n",
              "  .colab-df-spinner {\n",
              "    border: 2px solid var(--fill-color);\n",
              "    border-color: transparent;\n",
              "    border-bottom-color: var(--fill-color);\n",
              "    animation:\n",
              "      spin 1s steps(1) infinite;\n",
              "  }\n",
              "\n",
              "  @keyframes spin {\n",
              "    0% {\n",
              "      border-color: transparent;\n",
              "      border-bottom-color: var(--fill-color);\n",
              "      border-left-color: var(--fill-color);\n",
              "    }\n",
              "    20% {\n",
              "      border-color: transparent;\n",
              "      border-left-color: var(--fill-color);\n",
              "      border-top-color: var(--fill-color);\n",
              "    }\n",
              "    30% {\n",
              "      border-color: transparent;\n",
              "      border-left-color: var(--fill-color);\n",
              "      border-top-color: var(--fill-color);\n",
              "      border-right-color: var(--fill-color);\n",
              "    }\n",
              "    40% {\n",
              "      border-color: transparent;\n",
              "      border-right-color: var(--fill-color);\n",
              "      border-top-color: var(--fill-color);\n",
              "    }\n",
              "    60% {\n",
              "      border-color: transparent;\n",
              "      border-right-color: var(--fill-color);\n",
              "    }\n",
              "    80% {\n",
              "      border-color: transparent;\n",
              "      border-right-color: var(--fill-color);\n",
              "      border-bottom-color: var(--fill-color);\n",
              "    }\n",
              "    90% {\n",
              "      border-color: transparent;\n",
              "      border-bottom-color: var(--fill-color);\n",
              "    }\n",
              "  }\n",
              "</style>\n",
              "\n",
              "  <script>\n",
              "    async function quickchart(key) {\n",
              "      const quickchartButtonEl =\n",
              "        document.querySelector('#' + key + ' button');\n",
              "      quickchartButtonEl.disabled = true;  // To prevent multiple clicks.\n",
              "      quickchartButtonEl.classList.add('colab-df-spinner');\n",
              "      try {\n",
              "        const charts = await google.colab.kernel.invokeFunction(\n",
              "            'suggestCharts', [key], {});\n",
              "      } catch (error) {\n",
              "        console.error('Error during call to suggestCharts:', error);\n",
              "      }\n",
              "      quickchartButtonEl.classList.remove('colab-df-spinner');\n",
              "      quickchartButtonEl.classList.add('colab-df-quickchart-complete');\n",
              "    }\n",
              "    (() => {\n",
              "      let quickchartButtonEl =\n",
              "        document.querySelector('#df-8a4721b8-9431-4d75-b6f8-8fd3e9adfebd button');\n",
              "      quickchartButtonEl.style.display =\n",
              "        google.colab.kernel.accessAllowed ? 'block' : 'none';\n",
              "    })();\n",
              "  </script>\n",
              "</div>\n",
              "    </div>\n",
              "  </div>\n"
            ],
            "text/plain": [
              "   id                                               text  genre\n",
              "0   0  eady dead, maybe even wishing he was. INT. 2ND...      8\n",
              "1   2  t, summa cum laude and all. And I'm about to l...      3\n",
              "2   3   up Come, I have a surprise.... She takes him ...      4\n",
              "3   4  ded by the two detectives. INT. JEFF'S APARTME...      8\n",
              "4   5  nd dismounts, just as the other children reach...      4\n",
              "5   6  breadth of the bluff. Gabe pulls out his ancie...      8\n",
              "6   7  uilding. A MAN in pajamas runs out into the ra...      8\n",
              "7   9  ELLES AND RITA HAYWORTH Just disgustingly rich...      4\n",
              "8  10   Memphis goes back into the garage, Budgy cack...      8\n",
              "9  11  e reels as the world spins. Sweat pours off hi...      1"
            ]
          },
          "execution_count": 10,
          "metadata": {},
          "output_type": "execute_result"
        }
      ],
      "source": [
        "# Mapping the genres to values\n",
        "genre_mapper = {'other': 0, 'action': 1, 'adventure': 2, 'comedy':3, 'drama':4, 'horror':5, 'romance':6, 'sci-fi':7, 'thriller': 8}\n",
        "df['genre'] = df['genre'].map(genre_mapper)\n",
        "df.head(10)"
      ]
    },
    {
      "cell_type": "code",
      "execution_count": null,
      "metadata": {
        "colab": {
          "base_uri": "https://localhost:8080/"
        },
        "id": "5Uc3kiQne76x",
        "outputId": "d61f04b0-bb8d-4dd5-a896-cde48fa5ae1e"
      },
      "outputs": [
        {
          "data": {
            "text/plain": [
              "id       False\n",
              "text     False\n",
              "genre    False\n",
              "dtype: bool"
            ]
          },
          "execution_count": 11,
          "metadata": {},
          "output_type": "execute_result"
        }
      ],
      "source": [
        "# Finding any NaN values\n",
        "df.isna().any()"
      ]
    },
    {
      "cell_type": "code",
      "execution_count": null,
      "metadata": {
        "colab": {
          "base_uri": "https://localhost:8080/"
        },
        "id": "OHk_imwjfWFv",
        "outputId": "6c93f1e8-801b-45cc-fb96-90b34dcc81e0"
      },
      "outputs": [
        {
          "data": {
            "text/plain": [
              "Index(['text', 'genre'], dtype='object')"
            ]
          },
          "execution_count": 12,
          "metadata": {},
          "output_type": "execute_result"
        }
      ],
      "source": [
        "# Removing the 'id' column\n",
        "df.drop('id', axis=1, inplace=True)\n",
        "df.columns"
      ]
    },
    {
      "cell_type": "code",
      "execution_count": null,
      "metadata": {
        "colab": {
          "base_uri": "https://localhost:8080/"
        },
        "id": "zI5LGGW5fl6W",
        "outputId": "4d09484d-d186-4c46-86e9-e7e89b03d80b"
      },
      "outputs": [
        {
          "name": "stderr",
          "output_type": "stream",
          "text": [
            "[nltk_data] Downloading package stopwords to /root/nltk_data...\n",
            "[nltk_data]   Package stopwords is already up-to-date!\n"
          ]
        }
      ],
      "source": [
        "# Importing essential libraries for performing Natural Language Processing on given dataset\n",
        "import nltk\n",
        "import re\n",
        "nltk.download('stopwords')\n",
        "from nltk.corpus import stopwords\n",
        "from nltk.stem.porter import PorterStemmer"
      ]
    },
    {
      "cell_type": "code",
      "execution_count": null,
      "metadata": {
        "colab": {
          "base_uri": "https://localhost:8080/"
        },
        "id": "-cDZlGmng11w",
        "outputId": "eab50afc-d71d-4c41-93cf-12ff29f026a3"
      },
      "outputs": [
        {
          "data": {
            "text/plain": [
              "(22579, 2)"
            ]
          },
          "execution_count": 14,
          "metadata": {},
          "output_type": "execute_result"
        }
      ],
      "source": [
        "df.shape"
      ]
    },
    {
      "cell_type": "code",
      "execution_count": null,
      "metadata": {
        "colab": {
          "background_save": true
        },
        "id": "ngozOCvwgVdP"
      },
      "outputs": [],
      "source": [
        "# Cleaning the text\n",
        "corpus = []\n",
        "ps = PorterStemmer()\n",
        "\n",
        "for i in range(0, df.shape[0]):\n",
        "\n",
        "  # Cleaning special character from the dialog/script\n",
        "  dialog = re.sub(pattern='[^a-zA-Z]', repl=' ', string=df['text'][i])\n",
        "\n",
        "  # Converting the entire dialog/script into lower case\n",
        "  dialog = dialog.lower()\n",
        "\n",
        "  # Tokenizing the dialog/script by words\n",
        "  words = dialog.split()\n",
        "\n",
        "  # Removing the stop words\n",
        "  dialog_words = [word for word in words if word not in set(stopwords.words('english'))]\n",
        "\n",
        "  # Stemming the words\n",
        "  words = [ps.stem(word) for word in dialog_words]\n",
        "\n",
        "  # Joining the stemmed words\n",
        "  dialog = ' '.join(words)\n",
        "\n",
        "  # Creating a corpus\n",
        "  corpus.append(dialog)"
      ]
    },
    {
      "cell_type": "code",
      "execution_count": null,
      "metadata": {
        "colab": {
          "background_save": true
        },
        "id": "psbEvLTZjCSv",
        "outputId": "9aa768b7-fc60-4e56-8c76-86d9d0f6d389"
      },
      "outputs": [
        {
          "data": {
            "text/plain": [
              "['eadi dead mayb even wish int nd floor hallway three night orderli lead liza door orderli white guy open door step room three white guy mid look wild straight jacket jerri liza reach end rope shake head int decrepit hospit room night ball fetal realli head press cement tri sing jerri blue moon blue moon int nd floor hallway three night liza stand lean rail wall orderli sure go know bad orderli okay liza start hall orderli follow orderli got new patient last week want see liza wave hopeless stop chicken wire window end hall look light break jerri somewher orderli look gotta get back work',\n",
              " 'summa cum laud launch brand new magazin call expos homag miss juli conroy xenia ohio juli grin juli know find excel editor chief ted yellow page juli let finger walk suddenli music chang peopl ted grin ted play song extend hand dare ask danc juli take hand better ted juli begin danc kiss b g charli jimmi feign tear charli sucker happi end hug jimmi hold start rise nelson hous cloud xenia ted v guess everybodi pretti much live happili ever parent give groceri store descend cloud quickli find ext london buckingham palac day mom dad take pictur smooch front palac ted v manag sneak away second honeymoon',\n",
              " 'come surpris take hand lead hallway salvator look feel pang seem smaller age wither bodi slightli stoop hair gather knot back head must tire want rest time funer salvator interrupt mamma take hour air know maria smile iron tell year salvator get messag feel guilti think seem incred never come maria open door step asid let son whisper put thing go go salvator lake step flabbergast sight old room perfectli reconstruct preserv look like museum museum past despit bed cloth cupboard book shelv perfectli clear one ever live',\n",
              " 'ded two detect int jeff apart night medium shot thorwald fight dislodg jeff grip ext jeff apart night close shot look jeff face show strain pain thorwald attack brick floor patio seem hundr feet int jeff apart night medium shot thorwald jeff struggl ext neighborhood night semi close shot doyl pull top wall lisa stella two men look lisa white face frighten int jeff apart night medium shot thorwald smash jeff arm hand jeff grip begin slip ext neighborhood night semi close shot doyl reach top wall look jeff ext neighborhood night medium long shot jeff seen doyl angl hang somehow weather thorwald insan attack ext neighborhood night semi close shot doyl reach servic revolv look call one dete',\n",
              " 'nd dismount children reach throw arm embrac charlott hurri behind martin lock eye envelop hug children ext fresh water plantat even summer oak tree cover leav martin hous partial rebuilt habit workshop alreadi complet martin children nathan samuel margaret william play tall grass front hous two great dane charlott sit front porch nurs infant martin walk workshop trail susan carri complet rock chair chair work art thin light spider web perfectli turn wood nail glue step onto porch next charlott place rock chair next martin two pound fourteen ounc charlott love smile make minut adjust chair posit sit settl back',\n",
              " 'breadth bluff gabe pull ancient binocular scan crack gabe pov crack pictur mine shaft design madman crack move upward errat side straight width crack uneven rang six inch six feet look outsid gabe turn binocular insid crack look crack goe way bluff rout gabe tunnel mountain instead go side gabe get side jessi gone far right think better shape gabe simpl ye would done jessi want lead gabe cute ext top bluff day vista point see everyth els mountain rang thing taller tower two mountain lie drop mere four thousand feet qualen said way across h',\n",
              " 'uild man pajama run rain cabbi lose grip bumper terrenc jerk closer sewer man grab cabbi hand pull resid gather sidewalk polic car siren approach someth give man pajama fall backward puddl small crowd look see terrenc pull free hole moan semi conscious move bodi past bleed stump leg use follow blood swirl eddi rain water flow black storm drain cut fierc bull charg matador red muletta snort blood crowd goe wild bull fight arena blaze spanish sun camera dolli past cheer spaniard find small group american student earli twenti gord man believ paid good money watch guy tight pant kill cow sherri disgust make',\n",
              " 'ell rita hayworth disgustingli rich well make money make quick start littl war think slick smother sabl like betti grabl disgustingli rich build castl cost passel resid pan presid aspir higher higher get marri buy girl darn pretti head swirl rita hayworth swim highbal stew eyebal well rita hayworth disgustingli rich well rita hayworth chorin nifti soft shoe turn schaefer turn mank schaefer serious truli care ever work mank yeah swell well rita hayworth conclud littl danc break well resum song well ev ry summer sail sea littl yacht normandi pet littl dachshund friend kiss louella big rear end disgustingli rich louella storm eat salmon play ba',\n",
              " 'memphi goe back garag budgi cackl cut ext rancho palo verd busi district ford escort drive upscal street palo verd three kid insid driver freb littl dim back mirror man black alway wear mirror shade passeng seat kip memphi younger brother car pull stop fanci store close line affluent busi district freb consult piec paper freb corner hawthorn granvia tumbler mess said lotu would corner hawthorn granvia kip mess point corner build exot motor ltd twenti foot high glass window surround showroom exot dream car porsch ferrari lamborghini berton lotu esprit v gleam night showroom light freb mirror man startl freb mirror man shittin',\n",
              " 'e reel world spin sweat pour pressur build insid skull brain put centrifug neo believ believ cypher go pop vomit violent neo pitch forward black int neo room blink regain conscious room dark neo stretch bed neo go back morpheu sit like shadow chair far corner morpheu could would realli want deep neo know answer morpheu feel owe apolog rule free mind reach certain age danger troubl let go mind turn seen happen broke rule stare dark confess much neo morpheu matrix first built man born insid abil chang want remak mat']"
            ]
          },
          "execution_count": 16,
          "metadata": {},
          "output_type": "execute_result"
        }
      ],
      "source": [
        "corpus[0:10]"
      ]
    },
    {
      "cell_type": "code",
      "execution_count": null,
      "metadata": {
        "colab": {
          "background_save": true
        },
        "id": "CTnReZur8MhX",
        "outputId": "ff7a03bb-c394-4ad2-c465-0f1ae3e829c2"
      },
      "outputs": [
        {
          "data": {
            "text/plain": [
              "Index([    2,     4,     7,    10,    11,    12,    13,    14,    15,    16,\n",
              "       ...\n",
              "       22553, 22560, 22561, 22563, 22564, 22567, 22568, 22571, 22574, 22575],\n",
              "      dtype='int64', length=8873)"
            ]
          },
          "execution_count": 17,
          "metadata": {},
          "output_type": "execute_result"
        }
      ],
      "source": [
        "df[df['genre']==4].index"
      ]
    },
    {
      "cell_type": "code",
      "execution_count": null,
      "metadata": {
        "colab": {
          "background_save": true
        },
        "id": "6wKKHkXz8YsV",
        "outputId": "73a5c983-7f58-48f4-99fa-34af327b4a7f"
      },
      "outputs": [
        {
          "data": {
            "text/plain": [
              "22579"
            ]
          },
          "execution_count": 18,
          "metadata": {},
          "output_type": "execute_result"
        }
      ],
      "source": [
        "len(corpus)"
      ]
    },
    {
      "cell_type": "code",
      "execution_count": null,
      "metadata": {
        "colab": {
          "background_save": true
        },
        "id": "shCV8a6-7oal"
      },
      "outputs": [],
      "source": [
        "drama_words = []\n",
        "for i in list(df[df['genre']==4].index):\n",
        "  drama_words.append(corpus[i])\n",
        "\n",
        "action_words = []\n",
        "for i in list(df[df['genre']==1].index):\n",
        "  action_words.append(corpus[i])\n",
        "\n",
        "comedy_words = []\n",
        "for i in list(df[df['genre']==3].index):\n",
        "  comedy_words.append(corpus[i])\n",
        "\n",
        "drama = ''\n",
        "action = ''\n",
        "comedy = ''\n",
        "for i in range(0, 3):\n",
        "  drama += drama_words[i]\n",
        "  action += action_words[i]\n",
        "  comedy += comedy_words[i]"
      ]
    },
    {
      "cell_type": "code",
      "execution_count": null,
      "metadata": {
        "id": "n5MYNlbC7oWN"
      },
      "outputs": [],
      "source": [
        "# Creating wordcloud for drama genre\n",
        "from wordcloud import WordCloud\n",
        "wordcloud1 = WordCloud(background_color='white', width=3000, height=2500).generate(drama)\n",
        "plt.figure(figsize=(8,8))\n",
        "plt.imshow(wordcloud1)\n",
        "plt.axis('off')\n",
        "plt.title(\"Words which indicate 'DRAMA' genre \")\n",
        "plt.show()"
      ]
    },
    {
      "cell_type": "code",
      "execution_count": null,
      "metadata": {
        "id": "NJkOB3Ax9h42"
      },
      "outputs": [],
      "source": [
        "# Creating wordcloud for action genre\n",
        "wordcloud2 = WordCloud(background_color='white', width=3000, height=2500).generate(action)\n",
        "plt.figure(figsize=(8,8))\n",
        "plt.imshow(wordcloud2)\n",
        "plt.axis('off')\n",
        "plt.title(\"Words which indicate 'ACTION' genre \")\n",
        "plt.show()"
      ]
    },
    {
      "cell_type": "code",
      "execution_count": null,
      "metadata": {
        "id": "OHFriLDm9hwm"
      },
      "outputs": [],
      "source": [
        "# Creating wordcloud for comedy genre\n",
        "wordcloud3 = WordCloud(background_color='white', width=3000, height=2500).generate(comedy)\n",
        "plt.figure(figsize=(8,8))\n",
        "plt.imshow(wordcloud3)\n",
        "plt.axis('off')\n",
        "plt.title(\"Words which indicate 'COMEDY' genre \")\n",
        "plt.show()"
      ]
    },
    {
      "cell_type": "code",
      "execution_count": null,
      "metadata": {
        "id": "LFAscLTejesx"
      },
      "outputs": [],
      "source": [
        "# Creating the Bag of Words model\n",
        "from sklearn.feature_extraction.text import CountVectorizer\n",
        "cv = CountVectorizer(max_features=10000, ngram_range=(1,2))\n",
        "X = cv.fit_transform(corpus).toarray()"
      ]
    },
    {
      "cell_type": "code",
      "execution_count": null,
      "metadata": {
        "id": "1FLXuODhjenA"
      },
      "outputs": [],
      "source": [
        "y = df['genre'].values"
      ]
    },
    {
      "cell_type": "markdown",
      "metadata": {
        "id": "-beae9-RnCFA"
      },
      "source": [
        "# **Model Building**"
      ]
    },
    {
      "cell_type": "code",
      "execution_count": null,
      "metadata": {
        "id": "Jy7ZHVc4nh9B"
      },
      "outputs": [],
      "source": [
        "from sklearn.model_selection import train_test_split\n",
        "X_train, X_test, y_train, y_test = train_test_split(X, y, test_size=0.20, random_state=0)\n",
        "print('X_train size: {}, X_test size: {}'.format(X_train.shape, X_test.shape))"
      ]
    },
    {
      "cell_type": "markdown",
      "metadata": {
        "id": "CYzBwpFUnUpQ"
      },
      "source": [
        "## *Multinomial Naive Bayes*"
      ]
    },
    {
      "cell_type": "code",
      "execution_count": null,
      "metadata": {
        "colab": {
          "background_save": true
        },
        "id": "WOI4UFCmnEa_",
        "outputId": "70a1a547-2a7f-46a9-a22f-45d8416b010c"
      },
      "outputs": [
        {
          "data": {
            "text/html": [
              "<style>#sk-container-id-1 {color: black;background-color: white;}#sk-container-id-1 pre{padding: 0;}#sk-container-id-1 div.sk-toggleable {background-color: white;}#sk-container-id-1 label.sk-toggleable__label {cursor: pointer;display: block;width: 100%;margin-bottom: 0;padding: 0.3em;box-sizing: border-box;text-align: center;}#sk-container-id-1 label.sk-toggleable__label-arrow:before {content: \"▸\";float: left;margin-right: 0.25em;color: #696969;}#sk-container-id-1 label.sk-toggleable__label-arrow:hover:before {color: black;}#sk-container-id-1 div.sk-estimator:hover label.sk-toggleable__label-arrow:before {color: black;}#sk-container-id-1 div.sk-toggleable__content {max-height: 0;max-width: 0;overflow: hidden;text-align: left;background-color: #f0f8ff;}#sk-container-id-1 div.sk-toggleable__content pre {margin: 0.2em;color: black;border-radius: 0.25em;background-color: #f0f8ff;}#sk-container-id-1 input.sk-toggleable__control:checked~div.sk-toggleable__content {max-height: 200px;max-width: 100%;overflow: auto;}#sk-container-id-1 input.sk-toggleable__control:checked~label.sk-toggleable__label-arrow:before {content: \"▾\";}#sk-container-id-1 div.sk-estimator input.sk-toggleable__control:checked~label.sk-toggleable__label {background-color: #d4ebff;}#sk-container-id-1 div.sk-label input.sk-toggleable__control:checked~label.sk-toggleable__label {background-color: #d4ebff;}#sk-container-id-1 input.sk-hidden--visually {border: 0;clip: rect(1px 1px 1px 1px);clip: rect(1px, 1px, 1px, 1px);height: 1px;margin: -1px;overflow: hidden;padding: 0;position: absolute;width: 1px;}#sk-container-id-1 div.sk-estimator {font-family: monospace;background-color: #f0f8ff;border: 1px dotted black;border-radius: 0.25em;box-sizing: border-box;margin-bottom: 0.5em;}#sk-container-id-1 div.sk-estimator:hover {background-color: #d4ebff;}#sk-container-id-1 div.sk-parallel-item::after {content: \"\";width: 100%;border-bottom: 1px solid gray;flex-grow: 1;}#sk-container-id-1 div.sk-label:hover label.sk-toggleable__label {background-color: #d4ebff;}#sk-container-id-1 div.sk-serial::before {content: \"\";position: absolute;border-left: 1px solid gray;box-sizing: border-box;top: 0;bottom: 0;left: 50%;z-index: 0;}#sk-container-id-1 div.sk-serial {display: flex;flex-direction: column;align-items: center;background-color: white;padding-right: 0.2em;padding-left: 0.2em;position: relative;}#sk-container-id-1 div.sk-item {position: relative;z-index: 1;}#sk-container-id-1 div.sk-parallel {display: flex;align-items: stretch;justify-content: center;background-color: white;position: relative;}#sk-container-id-1 div.sk-item::before, #sk-container-id-1 div.sk-parallel-item::before {content: \"\";position: absolute;border-left: 1px solid gray;box-sizing: border-box;top: 0;bottom: 0;left: 50%;z-index: -1;}#sk-container-id-1 div.sk-parallel-item {display: flex;flex-direction: column;z-index: 1;position: relative;background-color: white;}#sk-container-id-1 div.sk-parallel-item:first-child::after {align-self: flex-end;width: 50%;}#sk-container-id-1 div.sk-parallel-item:last-child::after {align-self: flex-start;width: 50%;}#sk-container-id-1 div.sk-parallel-item:only-child::after {width: 0;}#sk-container-id-1 div.sk-dashed-wrapped {border: 1px dashed gray;margin: 0 0.4em 0.5em 0.4em;box-sizing: border-box;padding-bottom: 0.4em;background-color: white;}#sk-container-id-1 div.sk-label label {font-family: monospace;font-weight: bold;display: inline-block;line-height: 1.2em;}#sk-container-id-1 div.sk-label-container {text-align: center;}#sk-container-id-1 div.sk-container {/* jupyter's `normalize.less` sets `[hidden] { display: none; }` but bootstrap.min.css set `[hidden] { display: none !important; }` so we also need the `!important` here to be able to override the default hidden behavior on the sphinx rendered scikit-learn.org. See: https://github.com/scikit-learn/scikit-learn/issues/21755 */display: inline-block !important;position: relative;}#sk-container-id-1 div.sk-text-repr-fallback {display: none;}</style><div id=\"sk-container-id-1\" class=\"sk-top-container\"><div class=\"sk-text-repr-fallback\"><pre>MultinomialNB()</pre><b>In a Jupyter environment, please rerun this cell to show the HTML representation or trust the notebook. <br />On GitHub, the HTML representation is unable to render, please try loading this page with nbviewer.org.</b></div><div class=\"sk-container\" hidden><div class=\"sk-item\"><div class=\"sk-estimator sk-toggleable\"><input class=\"sk-toggleable__control sk-hidden--visually\" id=\"sk-estimator-id-1\" type=\"checkbox\" checked><label for=\"sk-estimator-id-1\" class=\"sk-toggleable__label sk-toggleable__label-arrow\">MultinomialNB</label><div class=\"sk-toggleable__content\"><pre>MultinomialNB()</pre></div></div></div></div></div>"
            ],
            "text/plain": [
              "MultinomialNB()"
            ]
          },
          "execution_count": 26,
          "metadata": {},
          "output_type": "execute_result"
        }
      ],
      "source": [
        "# Fitting Naive Bayes to the Training set\n",
        "from sklearn.naive_bayes import MultinomialNB\n",
        "nb_classifier = MultinomialNB()\n",
        "nb_classifier.fit(X_train, y_train)"
      ]
    },
    {
      "cell_type": "code",
      "execution_count": null,
      "metadata": {
        "colab": {
          "background_save": true
        },
        "id": "Kpp7SZL1oLKy"
      },
      "outputs": [],
      "source": [
        "# Predicting the Test set results\n",
        "nb_y_pred = nb_classifier.predict(X_test)"
      ]
    },
    {
      "cell_type": "code",
      "execution_count": null,
      "metadata": {
        "colab": {
          "background_save": true
        },
        "id": "7F0llNMjoc6K",
        "outputId": "95f2d1b9-2204-4e00-c060-5cefb7fa7763"
      },
      "outputs": [
        {
          "name": "stdout",
          "output_type": "stream",
          "text": [
            "---- Score ----\n",
            "Accuracy score is: 89.55%\n"
          ]
        }
      ],
      "source": [
        "# Calculating Accuracy\n",
        "from sklearn.metrics import accuracy_score\n",
        "score1 = accuracy_score(y_test, nb_y_pred)\n",
        "print(\"---- Score ----\")\n",
        "print(\"Accuracy score is: {}%\".format(round(score1*100,2)))"
      ]
    },
    {
      "cell_type": "code",
      "execution_count": null,
      "metadata": {
        "colab": {
          "background_save": true
        },
        "id": "yLU22TwAocxq"
      },
      "outputs": [],
      "source": [
        "# Making the Confusion Matrix\n",
        "from sklearn.metrics import confusion_matrix\n",
        "nb_cm = confusion_matrix(y_test, nb_y_pred)"
      ]
    },
    {
      "cell_type": "code",
      "execution_count": null,
      "metadata": {
        "colab": {
          "background_save": true
        },
        "id": "3hQomWGppB-L",
        "outputId": "13635558-a547-49d7-aad9-4b6f770c677b"
      },
      "outputs": [
        {
          "data": {
            "text/plain": [
              "array([[  62,    1,    0,    0,    1,    2,    0,    0,    0],\n",
              "       [   0,  450,    0,    8,    6,    1,    0,    0,   11],\n",
              "       [   0,    2,   41,    0,    1,    0,    0,    0,    1],\n",
              "       [   0,    7,    0,  518,   18,    2,    0,    4,   10],\n",
              "       [   3,   43,    1,   38, 1606,   21,    1,   11,  103],\n",
              "       [   0,    1,    0,    1,    4,   73,    0,    0,    3],\n",
              "       [   0,    1,    0,    0,    0,    0,   10,    0,    0],\n",
              "       [   0,    2,    0,    2,    7,    1,    0,  112,    8],\n",
              "       [   0,   14,    0,   21,   78,   11,    0,   22, 1172]])"
            ]
          },
          "execution_count": 30,
          "metadata": {},
          "output_type": "execute_result"
        }
      ],
      "source": [
        "nb_cm"
      ]
    },
    {
      "cell_type": "code",
      "execution_count": null,
      "metadata": {
        "colab": {
          "background_save": true
        },
        "id": "6-XB1SUIpGMJ",
        "outputId": "457aa572-f103-4bec-8d88-6a472800d2d7"
      },
      "outputs": [
        {
          "data": {
            "image/png": "[encoded data removed]",
            "text/plain": [
              "<Figure size 1500x1200 with 2 Axes>"
            ]
          },
          "metadata": {},
          "output_type": "display_data"
        }
      ],
      "source": [
        "# Plotting the confusion matrix\n",
        "plt.figure(figsize=(15,12))\n",
        "axis_labels = ['other', 'action', 'adventure', 'comedy', 'drama', 'horror', 'romance', 'sci-fi', 'thriller']\n",
        "sns.heatmap(data=nb_cm, annot=True, cmap=\"Blues\", xticklabels=axis_labels, yticklabels=axis_labels)\n",
        "plt.xlabel('Predicted values')\n",
        "plt.ylabel('Actual values')\n",
        "plt.title('Confusion Matrix for Multinomial Naive Bayes Algorithm')\n",
        "plt.show()"
      ]
    },
    {
      "cell_type": "code",
      "execution_count": null,
      "metadata": {
        "id": "qVv6r6c6sYh6"
      },
      "outputs": [],
      "source": [
        "# Hyperparameter tuning the Naive Bayes Classifier\n",
        "best_accuracy = 0.0\n",
        "alpha_val = 0.0\n",
        "for i in np.arange(0.1,1.1,0.1):\n",
        "  temp_classifier = MultinomialNB(alpha=i)\n",
        "  temp_classifier.fit(X_train, y_train)\n",
        "  temp_y_pred = temp_classifier.predict(X_test)\n",
        "  score = accuracy_score(y_test, temp_y_pred)\n",
        "  print(\"Accuracy score for alpha={} is: {}%\".format(round(i,1), round(score*100,2)))\n",
        "  if score>best_accuracy:\n",
        "    best_accuracy = score\n",
        "    alpha_val = i\n",
        "print('--------------------------------------------')\n",
        "print('The best accuracy is {}% with alpha value as {}'.format(round(best_accuracy*100, 2), round(alpha_val,1)))"
      ]
    },
    {
      "cell_type": "code",
      "execution_count": null,
      "metadata": {
        "id": "5afjSGbexATM"
      },
      "outputs": [],
      "source": [
        "classifier = MultinomialNB(alpha=0.1)\n",
        "classifier.fit(X_train, y_train)"
      ]
    },
    {
      "cell_type": "markdown",
      "metadata": {
        "id": "_pb37ylixMTI"
      },
      "source": [
        "# **Predictions**"
      ]
    },
    {
      "cell_type": "code",
      "execution_count": null,
      "metadata": {
        "id": "xDVBRum1xGbo"
      },
      "outputs": [],
      "source": [
        "def genre_prediction(sample_script):\n",
        "  sample_script = re.sub(pattern='[^a-zA-Z]',repl=' ', string=sample_script)\n",
        "  sample_script = sample_script.lower()\n",
        "  sample_script_words = sample_script.split()\n",
        "  sample_script_words = [word for word in sample_script_words if not word in set(stopwords.words('english'))]\n",
        "  ps = PorterStemmer()\n",
        "  final_script = [ps.stem(word) for word in sample_script_words]\n",
        "  final_script = ' '.join(final_script)\n",
        "\n",
        "  temp = cv.transform([final_script]).toarray()\n",
        "  return classifier.predict(temp)[0]"
      ]
    },
    {
      "cell_type": "code",
      "execution_count": null,
      "metadata": {
        "id": "bmLZ7Gls4CZO"
      },
      "outputs": [],
      "source": [
        "# For generating random integer\n",
        "from random import randint"
      ]
    },
    {
      "cell_type": "code",
      "execution_count": null,
      "metadata": {
        "id": "QOzTkdI94E0z"
      },
      "outputs": [],
      "source": [
        "# Loading test dataset\n",
        "test = pd.read_csv('/content/drive/My Drive/nlp/kaggle_movie_test.csv')\n",
        "test.columns"
      ]
    },
    {
      "cell_type": "code",
      "execution_count": null,
      "metadata": {
        "id": "zWYbaakz4UfE"
      },
      "outputs": [],
      "source": [
        "test.shape"
      ]
    },
    {
      "cell_type": "code",
      "execution_count": null,
      "metadata": {
        "id": "mhZXlyx04rdt"
      },
      "outputs": [],
      "source": [
        "test.drop('id', axis=1, inplace=True)\n",
        "test.head(10)"
      ]
    },
    {
      "cell_type": "code",
      "execution_count": null,
      "metadata": {
        "id": "7KWF6X2W4XfE"
      },
      "outputs": [],
      "source": [
        "# Predicting values\n",
        "row = randint(0,test.shape[0]-1)\n",
        "sample_script = test.text[row]\n",
        "\n",
        "print('Script: {}'.format(sample_script))\n",
        "value = genre_prediction(sample_script)\n",
        "print('Prediction: {}'.format(list(genre_mapper.keys())[value]))"
      ]
    },
    {
      "cell_type": "code",
      "execution_count": null,
      "metadata": {
        "id": "oYtVwbEZ67K2"
      },
      "outputs": [],
      "source": [
        "# Predicting values\n",
        "row = randint(0,test.shape[0]-1)\n",
        "sample_script = test.text[row]\n",
        "\n",
        "print('Script: {}'.format(sample_script))\n",
        "value = genre_prediction(sample_script)\n",
        "print('Prediction: {}'.format(list(genre_mapper.keys())[value]))"
      ]
    },
    {
      "cell_type": "code",
      "execution_count": null,
      "metadata": {
        "id": "ECm76N0N67l1"
      },
      "outputs": [],
      "source": [
        "# Predicting values\n",
        "row = randint(0,test.shape[0]-1)\n",
        "sample_script = test.text[row]\n",
        "\n",
        "print('Script: {}'.format(sample_script))\n",
        "value = genre_prediction(sample_script)\n",
        "print('Prediction: {}'.format(list(genre_mapper.keys())[value]))"
      ]
    },
    {
      "cell_type": "code",
      "execution_count": null,
      "metadata": {
        "id": "xOonEux47GUm"
      },
      "outputs": [],
      "source": [
        "# Predicting values\n",
        "row = randint(0,test.shape[0]-1)\n",
        "sample_script = test.text[row]\n",
        "\n",
        "print('Script: {}'.format(sample_script))\n",
        "value = genre_prediction(sample_script)\n",
        "print('Prediction: {}'.format(list(genre_mapper.keys())[value]))"
      ]
    },
    {
      "cell_type": "code",
      "execution_count": null,
      "metadata": {
        "id": "H_NVCC4jDXTx"
      },
      "outputs": [],
      "source": [
        "# Predicting values\n",
        "row = randint(0,test.shape[0]-1)\n",
        "sample_script = test.text[row]\n",
        "\n",
        "print('Script: {}'.format(sample_script))\n",
        "value = genre_prediction(sample_script)\n",
        "print('Prediction: {}'.format(list(genre_mapper.keys())[value]))"
      ]
    },
    {
      "cell_type": "code",
      "execution_count": null,
      "metadata": {
        "id": "nHlkTolWF-JY"
      },
      "outputs": [],
      "source": [
        "sample_script = input(\"Enter Script:\")\n",
        "\n",
        "print('Script: {}'.format(sample_script))\n",
        "value = genre_prediction(sample_script)\n",
        "print('Prediction: {}'.format(list(genre_mapper.keys())[value]))"
      ]
    }
  ],
  "metadata": {
    "accelerator": "GPU",
    "colab": {
      "gpuType": "T4",
      "provenance": []
    },
    "kernelspec": {
      "display_name": "Python 3",
      "name": "python3"
    }
  },
  "nbformat": 4,
  "nbformat_minor": 0
}